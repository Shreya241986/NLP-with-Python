{
 "cells": [
  {
   "cell_type": "markdown",
   "metadata": {},
   "source": [
    "## Append to a txt file"
   ]
  },
  {
   "cell_type": "code",
   "execution_count": 1,
   "metadata": {},
   "outputs": [],
   "source": [
    "hiers_file = open('GameOfSultans.txt','a+')\n"
   ]
  },
  {
   "cell_type": "code",
   "execution_count": 2,
   "metadata": {},
   "outputs": [
    {
     "data": {
      "text/plain": [
       "18"
      ]
     },
     "execution_count": 2,
     "metadata": {},
     "output_type": "execute_result"
    }
   ],
   "source": [
    "hiers_file.write('Smriti Female 2919')"
   ]
  },
  {
   "cell_type": "code",
   "execution_count": 3,
   "metadata": {},
   "outputs": [],
   "source": [
    "hiers_file.close()"
   ]
  },
  {
   "cell_type": "code",
   "execution_count": 4,
   "metadata": {},
   "outputs": [],
   "source": [
    "new_file = open('GameOfSultans.txt')\n",
    "contents = new_file.read()"
   ]
  },
  {
   "cell_type": "code",
   "execution_count": 5,
   "metadata": {},
   "outputs": [
    {
     "name": "stdout",
     "output_type": "stream",
     "text": [
      "Heir_Name Gender Attributes\n",
      "Ayudhiya Female 3736\n",
      "Revati Female 6358\n",
      "Gopal Male 7306\n",
      "Dheryawati Female 6384\n",
      "Devyani Female 6254\n",
      "Shraddha Female 3330\n",
      "Kusum Female 3495\n",
      "Prakriti Female 6019\n",
      "Keseri Male 3211\n",
      "Bhuvan Male 5630\n",
      "Himavat Male 3612\n",
      "Smriti Female 2919\n"
     ]
    }
   ],
   "source": [
    "print(contents)"
   ]
  },
  {
   "cell_type": "code",
   "execution_count": 6,
   "metadata": {},
   "outputs": [],
   "source": [
    "new_file.close()"
   ]
  },
  {
   "cell_type": "code",
   "execution_count": 7,
   "metadata": {},
   "outputs": [],
   "source": [
    "hiers_file = open('GameOfSultans.txt','a+')"
   ]
  },
  {
   "cell_type": "code",
   "execution_count": 8,
   "metadata": {},
   "outputs": [
    {
     "data": {
      "text/plain": [
       "57"
      ]
     },
     "execution_count": 8,
     "metadata": {},
     "output_type": "execute_result"
    }
   ],
   "source": [
    "hiers_file.write('Rohan Male 3483 \\n Digvijay Male 5875 \\n Riddhi Female 6019')"
   ]
  },
  {
   "cell_type": "code",
   "execution_count": 9,
   "metadata": {},
   "outputs": [
    {
     "data": {
      "text/plain": [
       "0"
      ]
     },
     "execution_count": 9,
     "metadata": {},
     "output_type": "execute_result"
    }
   ],
   "source": [
    "hiers_file.seek(0)"
   ]
  },
  {
   "cell_type": "code",
   "execution_count": 10,
   "metadata": {},
   "outputs": [
    {
     "name": "stdout",
     "output_type": "stream",
     "text": [
      "Heir_Name Gender Attributes\n",
      "Ayudhiya Female 3736\n",
      "Revati Female 6358\n",
      "Gopal Male 7306\n",
      "Dheryawati Female 6384\n",
      "Devyani Female 6254\n",
      "Shraddha Female 3330\n",
      "Kusum Female 3495\n",
      "Prakriti Female 6019\n",
      "Keseri Male 3211\n",
      "Bhuvan Male 5630\n",
      "Himavat Male 3612\n",
      "Smriti Female 2919Rohan Male 3483 \n",
      " Digvijay Male 5875 \n",
      " Riddhi Female 6019\n"
     ]
    }
   ],
   "source": [
    "contents = hiers_file.read()\n",
    "print(contents)"
   ]
  },
  {
   "cell_type": "code",
   "execution_count": 11,
   "metadata": {},
   "outputs": [],
   "source": [
    "hiers_file.close()"
   ]
  },
  {
   "cell_type": "code",
   "execution_count": null,
   "metadata": {},
   "outputs": [],
   "source": []
  }
 ],
 "metadata": {
  "kernelspec": {
   "display_name": "Python 3",
   "language": "python",
   "name": "python3"
  },
  "language_info": {
   "codemirror_mode": {
    "name": "ipython",
    "version": 3
   },
   "file_extension": ".py",
   "mimetype": "text/x-python",
   "name": "python",
   "nbconvert_exporter": "python",
   "pygments_lexer": "ipython3",
   "version": "3.7.5"
  }
 },
 "nbformat": 4,
 "nbformat_minor": 2
}
