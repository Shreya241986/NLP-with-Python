{
 "cells": [
  {
   "cell_type": "markdown",
   "metadata": {},
   "source": [
    "# Stop Words"
   ]
  },
  {
   "cell_type": "code",
   "execution_count": 2,
   "metadata": {},
   "outputs": [],
   "source": [
    "import spacy "
   ]
  },
  {
   "cell_type": "code",
   "execution_count": 3,
   "metadata": {},
   "outputs": [],
   "source": [
    "nlp = spacy.load('en_core_web_sm')"
   ]
  },
  {
   "cell_type": "code",
   "execution_count": 4,
   "metadata": {},
   "outputs": [
    {
     "name": "stdout",
     "output_type": "stream",
     "text": [
      "{'until', 'through', 'the', 'about', 'up', 'made', 'of', 'by', 'everyone', 'serious', 'under', 'show', 'that', 'she', 'further', 'never', 'or', 'no', 'three', 'throughout', 'has', 'be', 'six', 'third', 'to', 'wherever', 'thence', 'as', 'latterly', 'same', 'very', 'his', 'you', 'ours', 'hereby', 'own', 'hence', 'therein', 'several', 'per', 'somehow', 'thus', 'nor', 'where', 'them', 'elsewhere', 'ever', 'afterwards', 'becoming', 'been', 'their', 'whatever', 'may', 'ca', 'whereby', 'other', 'both', 'seems', 'all', 'thru', 'twenty', 'moreover', 'among', 'towards', 'into', 'much', 'whoever', 'beforehand', 'nine', 'now', 'on', 'since', 'behind', 'hundred', 'nowhere', 'during', 'there', 'hereupon', 'these', 'a', 'side', 'from', 'doing', 'meanwhile', 'could', 'must', 'unless', 'than', 'various', 'yet', 'around', 'regarding', 'sometime', 'somewhere', 'what', 'whereas', 'just', 'being', 'perhaps', 'thereafter', 'full', 'neither', 'down', 'put', 'myself', 'still', 'they', 'and', 'became', 'is', 'back', 'if', 'seem', 'those', 'rather', 'were', 'within', 'therefore', 'once', 'take', 'noone', 'anyhow', 'beside', 'anywhere', 'eight', 'enough', 'between', 'hers', 'i', 'for', 'who', 'anything', 'in', 'even', 'via', 'also', 'call', 'at', 'mine', 'not', 'bottom', 'because', 'off', 'except', 'would', 'can', 'part', 'quite', 'whereafter', 'anyway', 'too', 'was', 'us', 'indeed', 'will', 'nothing', 'cannot', 'amount', 'after', 'whence', 'either', 'go', 'an', 'which', 'ourselves', 'beyond', 'your', 'onto', 'others', 'thereby', 'front', 'mostly', 'yourselves', 'often', 'upon', 'thereupon', 'few', 'besides', 'out', 'formerly', 'already', 'anyone', 'everything', 'another', 'here', 'herself', 'only', 'themselves', 'eleven', 'less', 'are', 'keep', 'my', 'it', 'whereupon', 'together', 'without', 'below', 'although', 'fifty', 'alone', 'nevertheless', 'none', 'almost', 'with', 'have', 'really', 'ten', 'fifteen', 'itself', 'otherwise', 'how', 'our', 'whenever', 'such', 'namely', 'next', 'two', 'he', 'nobody', 'when', 'before', 'using', 'him', 'always', 'move', 'name', 'each', 'some', 'why', 'give', 'toward', 'sometimes', 'then', 'everywhere', 'see', 'yourself', 'whom', 'last', 'else', 'whole', 'do', 'becomes', 'himself', 'might', 'should', 'someone', 'empty', 'forty', 'however', 'latter', 'one', 'top', 'twelve', 'every', 'five', 'seeming', 'hereafter', 'so', 'more', 'against', 'due', 'again', 'first', 'get', 'had', 'over', 'this', 'does', 'former', 'many', 'did', 'while', 'along', 'we', 'herein', 'least', 'me', 'wherein', 'most', 'across', 'above', 'used', 'whither', 'am', 'but', 'her', 'sixty', 'any', 'amongst', 'well', 'please', 'four', 're', 'whose', 'make', 'its', 'though', 'something', 'seemed', 'say', 'done', 'yours', 'whether', 'become'}\n"
     ]
    }
   ],
   "source": [
    "print(nlp.Defaults.stop_words)"
   ]
  },
  {
   "cell_type": "code",
   "execution_count": 5,
   "metadata": {},
   "outputs": [
    {
     "data": {
      "text/plain": [
       "305"
      ]
     },
     "execution_count": 5,
     "metadata": {},
     "output_type": "execute_result"
    }
   ],
   "source": [
    "len(nlp.Defaults.stop_words)"
   ]
  },
  {
   "cell_type": "code",
   "execution_count": 6,
   "metadata": {},
   "outputs": [
    {
     "data": {
      "text/plain": [
       "<spacy.lexeme.Lexeme at 0x2c14326d4f8>"
      ]
     },
     "execution_count": 6,
     "metadata": {},
     "output_type": "execute_result"
    }
   ],
   "source": [
    "#checking word is a stop word\n",
    "nlp.vocab['is']"
   ]
  },
  {
   "cell_type": "code",
   "execution_count": 7,
   "metadata": {},
   "outputs": [
    {
     "data": {
      "text/plain": [
       "True"
      ]
     },
     "execution_count": 7,
     "metadata": {},
     "output_type": "execute_result"
    }
   ],
   "source": [
    "nlp.vocab['is'].is_stop"
   ]
  },
  {
   "cell_type": "markdown",
   "metadata": {},
   "source": [
    "### How to add stopwords with spacy"
   ]
  },
  {
   "cell_type": "code",
   "execution_count": 8,
   "metadata": {},
   "outputs": [],
   "source": [
    "nlp.Defaults.stop_words.add('btw')"
   ]
  },
  {
   "cell_type": "code",
   "execution_count": 9,
   "metadata": {},
   "outputs": [],
   "source": [
    "nlp.vocab['btw'].is_stop = True"
   ]
  },
  {
   "cell_type": "code",
   "execution_count": 10,
   "metadata": {},
   "outputs": [
    {
     "data": {
      "text/plain": [
       "306"
      ]
     },
     "execution_count": 10,
     "metadata": {},
     "output_type": "execute_result"
    }
   ],
   "source": [
    "len(nlp.Defaults.stop_words)"
   ]
  },
  {
   "cell_type": "code",
   "execution_count": 12,
   "metadata": {},
   "outputs": [
    {
     "data": {
      "text/plain": [
       "True"
      ]
     },
     "execution_count": 12,
     "metadata": {},
     "output_type": "execute_result"
    }
   ],
   "source": [
    "nlp.vocab['btw'].is_stop"
   ]
  },
  {
   "cell_type": "markdown",
   "metadata": {},
   "source": [
    "### How to remove stopwords with spacy"
   ]
  },
  {
   "cell_type": "code",
   "execution_count": 14,
   "metadata": {},
   "outputs": [],
   "source": [
    "nlp.Defaults.stop_words.remove('beyond')"
   ]
  },
  {
   "cell_type": "code",
   "execution_count": 15,
   "metadata": {},
   "outputs": [],
   "source": [
    "nlp.vocab['beyond'].is_stop = False"
   ]
  },
  {
   "cell_type": "code",
   "execution_count": 16,
   "metadata": {},
   "outputs": [
    {
     "data": {
      "text/plain": [
       "False"
      ]
     },
     "execution_count": 16,
     "metadata": {},
     "output_type": "execute_result"
    }
   ],
   "source": [
    "nlp.vocab['beyond'].is_stop"
   ]
  },
  {
   "cell_type": "code",
   "execution_count": null,
   "metadata": {},
   "outputs": [],
   "source": []
  }
 ],
 "metadata": {
  "kernelspec": {
   "display_name": "Python 3",
   "language": "python",
   "name": "python3"
  },
  "language_info": {
   "codemirror_mode": {
    "name": "ipython",
    "version": 3
   },
   "file_extension": ".py",
   "mimetype": "text/x-python",
   "name": "python",
   "nbconvert_exporter": "python",
   "pygments_lexer": "ipython3",
   "version": "3.7.5"
  }
 },
 "nbformat": 4,
 "nbformat_minor": 2
}
