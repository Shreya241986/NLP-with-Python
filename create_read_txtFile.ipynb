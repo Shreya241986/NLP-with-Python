{
 "cells": [
  {
   "cell_type": "markdown",
   "metadata": {},
   "source": [
    "## Creating A Text file"
   ]
  },
  {
   "cell_type": "code",
   "execution_count": 2,
   "metadata": {},
   "outputs": [
    {
     "name": "stdout",
     "output_type": "stream",
     "text": [
      "Writing GameOfSultans.txt\n"
     ]
    }
   ],
   "source": [
    "\n",
    "%%writefile GameOfSultans.txt\n",
    "Heir_Name Gender Attributes\n",
    "Ayudhiya Female 3736\n",
    "Revati Female 6358\n",
    "Gopal Male 7306\n",
    "Dheryawati Female 6384\n",
    "Devyani Female 6254\n",
    "Shraddha Female 3330\n",
    "Kusum Female 3495\n",
    "Prakriti Female 6019\n",
    "Keseri Male 3211\n",
    "Bhuvan Male 5630\n",
    "Himavat Male 3612"
   ]
  },
  {
   "cell_type": "markdown",
   "metadata": {},
   "source": [
    "## opening a file"
   ]
  },
  {
   "cell_type": "code",
   "execution_count": 4,
   "metadata": {},
   "outputs": [],
   "source": [
    "Hiers_file = open('GameOfSultans.txt')"
   ]
  },
  {
   "cell_type": "code",
   "execution_count": 5,
   "metadata": {},
   "outputs": [
    {
     "data": {
      "text/plain": [
       "'Heir_Name Gender Attributes\\nAyudhiya Female 3736\\nRevati Female 6358\\nGopal Male 7306\\nDheryawati Female 6384\\nDevyani Female 6254\\nShraddha Female 3330\\nKusum Female 3495\\nPrakriti Female 6019\\nKeseri Male 3211\\nBhuvan Male 5630\\nHimavat Male 3612\\n'"
      ]
     },
     "execution_count": 5,
     "metadata": {},
     "output_type": "execute_result"
    }
   ],
   "source": [
    "Hiers_file.read()"
   ]
  },
  {
   "cell_type": "code",
   "execution_count": 6,
   "metadata": {},
   "outputs": [
    {
     "data": {
      "text/plain": [
       "0"
      ]
     },
     "execution_count": 6,
     "metadata": {},
     "output_type": "execute_result"
    }
   ],
   "source": [
    "Hiers_file.seek(0)"
   ]
  },
  {
   "cell_type": "code",
   "execution_count": 7,
   "metadata": {},
   "outputs": [],
   "source": [
    "content = Hiers_file.read()"
   ]
  },
  {
   "cell_type": "code",
   "execution_count": 9,
   "metadata": {},
   "outputs": [
    {
     "name": "stdout",
     "output_type": "stream",
     "text": [
      "Heir_Name Gender Attributes\n",
      "Ayudhiya Female 3736\n",
      "Revati Female 6358\n",
      "Gopal Male 7306\n",
      "Dheryawati Female 6384\n",
      "Devyani Female 6254\n",
      "Shraddha Female 3330\n",
      "Kusum Female 3495\n",
      "Prakriti Female 6019\n",
      "Keseri Male 3211\n",
      "Bhuvan Male 5630\n",
      "Himavat Male 3612\n",
      "\n"
     ]
    }
   ],
   "source": [
    "print(content)"
   ]
  },
  {
   "cell_type": "code",
   "execution_count": null,
   "metadata": {},
   "outputs": [],
   "source": []
  }
 ],
 "metadata": {
  "kernelspec": {
   "display_name": "Python 3",
   "language": "python",
   "name": "python3"
  },
  "language_info": {
   "codemirror_mode": {
    "name": "ipython",
    "version": 3
   },
   "file_extension": ".py",
   "mimetype": "text/x-python",
   "name": "python",
   "nbconvert_exporter": "python",
   "pygments_lexer": "ipython3",
   "version": "3.7.5"
  }
 },
 "nbformat": 4,
 "nbformat_minor": 2
}
